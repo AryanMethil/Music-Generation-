{
  "nbformat": 4,
  "nbformat_minor": 0,
  "metadata": {
    "colab": {
      "name": "Melody_Generation_Predict.ipynb",
      "provenance": [],
      "mount_file_id": "1owa0gI3tQoYfMkIBPGD3Cq74AhRZpAW3",
      "authorship_tag": "ABX9TyNQoa4sGPSCr2U7R8CEfAN1",
      "include_colab_link": true
    },
    "kernelspec": {
      "name": "python3",
      "display_name": "Python 3"
    }
  },
  "cells": [
    {
      "cell_type": "markdown",
      "metadata": {
        "id": "view-in-github",
        "colab_type": "text"
      },
      "source": [
        "<a href=\"https://colab.research.google.com/github/AryanMethil/Music-Generation-/blob/main/Melody_Generation_Predict.ipynb\" target=\"_parent\"><img src=\"https://colab.research.google.com/assets/colab-badge.svg\" alt=\"Open In Colab\"/></a>"
      ]
    },
    {
      "cell_type": "code",
      "metadata": {
        "id": "NRw5oAVk71l_"
      },
      "source": [
        "import tensorflow as tf\n",
        "import json\n",
        "import numpy as np\n",
        "import music21 as m21"
      ],
      "execution_count": null,
      "outputs": []
    },
    {
      "cell_type": "code",
      "metadata": {
        "id": "NG0vBy4c8duX"
      },
      "source": [
        "reloaded_model=tf.keras.models.load_model('/content/drive/My Drive/Melody Generation/my_model.h5')"
      ],
      "execution_count": null,
      "outputs": []
    },
    {
      "cell_type": "code",
      "metadata": {
        "id": "mG8eyDq-R075"
      },
      "source": [
        "SEQUENCE_LENGTH=64\n",
        "MAPPING_PATH='/content/drive/My Drive/Melody Generation/mapping.json'"
      ],
      "execution_count": null,
      "outputs": []
    },
    {
      "cell_type": "code",
      "metadata": {
        "id": "YKQEg6MX_BVB"
      },
      "source": [
        "class MelodyGenerator():\n",
        "  def __init__(self,model=reloaded_model):\n",
        "    self.model=model\n",
        "\n",
        "    with open(MAPPING_PATH,'r') as f:\n",
        "      self.mappings=json.load(f)\n",
        "    \n",
        "    self.start_symbols=['/']*SEQUENCE_LENGTH\n",
        "  \n",
        "  def sample_with_temperature(self,probabilities,temperature):\n",
        "\n",
        "    # temperature -> infinity [the probabilities dont matter and the symbol will be completely random]\n",
        "    # temperature -> 0 [the highest probability one will always be chosen]\n",
        "    # temperature -> 1 [the distribution of probabilities is used and so the highest prob one will be likely to get picked but wont necessarily always get picked]\n",
        "\n",
        "    predictions = np.log(probabilities) / temperature\n",
        "    probabilities = np.exp(predictions) / np.sum(np.exp(predictions))\n",
        "\n",
        "    choices=range(len(probabilities))\n",
        "    index=np.random.choice(choices,p=probabilities)\n",
        "\n",
        "    return index\n",
        "\n",
        "  def generate_melody(self,seed,num_steps,max_sequence_length,temperature):\n",
        "\n",
        "    # create seed with start symbols\n",
        "    seed=seed.split()\n",
        "    melody=seed\n",
        "    seed=self.start_symbols + seed\n",
        "\n",
        "    # map seed list to int\n",
        "    seed=[self.mappings[symbol] for symbol in seed]\n",
        "\n",
        "    for _ in range(num_steps):\n",
        "\n",
        "      # limit the seed to the last max_sequence_length symbols\n",
        "      seed= seed[-max_sequence_length:]\n",
        "\n",
        "      #one-hot encode\n",
        "      onehot_seed=tf.keras.utils.to_categorical(seed,num_classes=len(self.mappings))\n",
        "\n",
        "      # add an extra dimension representing a batch size\n",
        "      onehot_seed=onehot_seed[np.newaxis,...]\n",
        "\n",
        "      # predict\n",
        "      probabilities=self.model.predict(onehot_seed)[0]\n",
        "\n",
        "      output_int=self.sample_with_temperature(probabilities,temperature)\n",
        "\n",
        "      # update the seed\n",
        "      seed.append(output_int)\n",
        "\n",
        "      output_symbol=[k for k,v in self.mappings.items() if v==output_int][0]\n",
        "\n",
        "      # check whether we're at the end of a melody\n",
        "      if(output_symbol=='/'):\n",
        "        break\n",
        "      \n",
        "      # else update the melody\n",
        "      melody.append(output_symbol)\n",
        "\n",
        "    return melody\n",
        "  \n",
        "  def save_melody(self,melody,step_duration=0.25, format='midi',file_name='/content/drive/My Drive/Melody Generation/mel.midi'):\n",
        "\n",
        "    # create a music21 stream\n",
        "    stream = m21.stream.Stream()\n",
        "\n",
        "    # parse all symbols ad create note/rest objects\n",
        "    start_symbol=None\n",
        "    step_counter=1\n",
        "\n",
        "    for i,symbol in enumerate(melody):\n",
        "\n",
        "      # handle the case where we have a note/rest\n",
        "      if(symbol!='_' or i+1==len(melody)):\n",
        "        \n",
        "        # ensure that we are not dealing with the first event\n",
        "        if(start_symbol is not None):\n",
        "\n",
        "          quarter_length_duration=step_duration*step_counter\n",
        "\n",
        "          #handle rest\n",
        "          if(start_symbol=='r'):\n",
        "            m21_event=m21.note.Rest(quarterLength=quarter_length_duration)\n",
        "\n",
        "          #handle note\n",
        "          else:\n",
        "            m21_event=m21.note.Note(int(start_symbol),quarterLength=quarter_length_duration)\n",
        "\n",
        "          stream.append(m21_event)\n",
        "\n",
        "          # reset step counter\n",
        "          step_counter=1\n",
        "\n",
        "        start_symbol=symbol\n",
        "\n",
        "      # handle the case in which we have '_'\n",
        "      else:\n",
        "        step_counter+=1\n",
        "\n",
        "    # write the m21 stream to file\n",
        "    stream.write(format,file_name)\n",
        "\n",
        "    "
      ],
      "execution_count": null,
      "outputs": []
    },
    {
      "cell_type": "code",
      "metadata": {
        "id": "e1mf-QrZpsYk"
      },
      "source": [
        "import os\n",
        "import zipfile\n",
        "\n",
        "local_zip = '/content/drive/My Drive/Melody Generation/dataset.zip'\n",
        "zip_ref = zipfile.ZipFile(local_zip, 'r')\n",
        "zip_ref.extractall('/content/')\n",
        "\n",
        "zip_ref.close()"
      ],
      "execution_count": null,
      "outputs": []
    },
    {
      "cell_type": "code",
      "metadata": {
        "id": "dB9Bs0yhq0Kv",
        "colab": {
          "base_uri": "https://localhost:8080/",
          "height": 88
        },
        "outputId": "e1091c4d-cdd0-42a5-d038-09179b44530f"
      },
      "source": [
        "seed='60 _ 62 _ 64 _ _ _ 64 _ _ _ 65 _ 62 _ 62 _ 64 _ 64 _ _ _ 64 _ 65 _ 67 _ _ _ 65 _ 64 _ 62 _ 60 _ 59 _ 62 _ 62 _ _ _ 62 _ 64 _ 65 _ _ _ _ _ 69 _ 67 _ 65 _ 64 _ _ _ r _ _ _ 67 _ 72 _ 69 _ _ _ _ _ _ _ 67 _ 65 _ 64 _ _ _ _ _ 65 _ 62 _ _ _ 60 _ _ _ '\n",
        "mg=MelodyGenerator()\n",
        "melody=mg.generate_melody(seed,500,SEQUENCE_LENGTH,1)\n",
        "print(melody)\n",
        "mg.save_melody(melody)"
      ],
      "execution_count": null,
      "outputs": [
        {
          "output_type": "stream",
          "text": [
            "/usr/local/lib/python3.6/dist-packages/ipykernel_launcher.py:16: RuntimeWarning: divide by zero encountered in log\n",
            "  app.launch_new_instance()\n"
          ],
          "name": "stderr"
        },
        {
          "output_type": "stream",
          "text": [
            "['60', '_', '62', '_', '64', '_', '_', '_', '64', '_', '_', '_', '65', '_', '62', '_', '62', '_', '64', '_', '64', '_', '_', '_', '64', '_', '65', '_', '67', '_', '_', '_', '65', '_', '64', '_', '62', '_', '60', '_', '59', '_', '62', '_', '62', '_', '_', '_', '62', '_', '64', '_', '65', '_', '_', '_', '_', '_', '69', '_', '67', '_', '65', '_', '64', '_', '_', '_', 'r', '_', '_', '_', '67', '_', '72', '_', '69', '_', '_', '_', '_', '_', '_', '_', '67', '_', '65', '_', '64', '_', '_', '_', '_', '_', '65', '_', '62', '_', '_', '_', '60', '_', '_', '_', '_', '_', '79', '59', '62', '70', '76', '68', '76', '_', '_', '_', '76', '68', '_', '_', '70', '_', '70', '_', '79', '68', '70', '70', '76', '_', '_', '_', '76', '68', '70', '69', '69', '69', '69', '69', '69', '69', '69', '69', '69', '69', '69', '69', '69', '69', '69', '69', '69', '69', '69', '69', '69', '69', '69', '69', '69', '69', '69', '69', '69', '69', '69', '69', '69', '69', '69', '69', '69', '69', '69', '69', '69', '69', '69', '69', '69', '69', '69', '69', '69', '69', '69', '69', '69', '69', '69', '69', '69', '69', '69', '69', '_', '69', '69', '68', '76', '_', '70', '_', '70', '_', '70', '70', '54', '76', '70', '70', '70', '48', '70', '_', '70', '_', '70', '76', '68', '_', '70', 'r', '_', '_', '70', 'r', '_', '_', '70', '54', '70', '54', '70', '76', '70', '70', '54', '76', '70', '67', '70', '70', '70', '76', '54', '_', '70', '54', '70', '76', '70', '67', '70', '70', '76', '_', '54', '54', '70', '76', '70', '67', '70', '76', '70', '70', '70', '_', '54', '76', '70', '_', '54', '76', '70', '67', '70', '70', '70', '70', '70', '68', '70', '70', '70', '67', '76', '54', '70', '70', '76', '67', '70', '76', '70', '70', '54', '_', '70', '59', '70', '70', '70', '76', '70', '76', '70', '70', '67', '67', '70', '68', '70', '70', '70', '69', '69', '69', '69', '69', '69', '69', '69', '69', '69', '69', '69', '69', '69', '69', '69', '69', '69', '69', '69', '69', '69', '69', '69', '69', '69', '69', '69', '69', '69', '69', '69', '69', '69', '69', '69', '69', '69', '69', '69', '69', '69', '69', '69', '69', '69', '69', '69', '69', '69', '69', '69', '69', '69', '69', '69', '69', '69', '69', '69', '69', '69', '69', '69', '68', '70', '70', '70', '70', '70', '72', '70', '68', '70', '70', '70', '67', '70', '70', '70', '76', '70', '70', '70', '54', '70', '70', '70', '_', '70', '70', '70', '_', '70', 'r', '70', '_', '70', '70', '70', 'r', '70', '70', '70', '_', '70', '70', '70', '70', '70', '54', '70', '76', '70', '70', '70', '76', '70', '70', '70', '_', '70', '70', '70', '70', '70', '54', '70', '67', '70', '70', '70', '_', '70', '70', '70', '76', '70', '70', '70', '70', '70', '70', '70', '68', '70', '70', '70', '69', '69', '69', '69', '69', '69', '69', '69', '69', '69', '69', '69', '69', '69', '69', '69', '69', '69', '69', '69', '69', '69', '69', '69', '69', '69', '69', '69', '69', '69', '69', '69', '69', '69', '69', '69', '69', '69', '69', '69', '69', '69', '69', '69', '69', '69', '69', '69', '69', '69', '69', '69', '69', '69', '69', '69', '69', '69', '69', '69', '69', '69', '69', '69', '_', '70', '68', '70', '70', '70', '76', '70', '76', '70', '70', '70', '76', '70', '_', '70', '70', '70', '59', '70', '_', '70', '70', '70', 'r', '70', '_', '70', '70', '70', '54', '70', '76', '70', '70', '70', '70', '70', '48', '70', '70', '70', '_', '70', 'r', '70', '70', '70', '54', '70', 'r', '70', '70', '70', '_', '70', '54', '70', '70', '70', '70', '70', '76', '70', '70', '70', '67', '70', '67', '70', '70', '70', '67', '76', '54']\n"
          ],
          "name": "stdout"
        }
      ]
    },
    {
      "cell_type": "code",
      "metadata": {
        "id": "TQ-YgUSCrmK5"
      },
      "source": [
        ""
      ],
      "execution_count": null,
      "outputs": []
    }
  ]
}