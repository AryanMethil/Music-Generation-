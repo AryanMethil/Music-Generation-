{
  "nbformat": 4,
  "nbformat_minor": 0,
  "metadata": {
    "colab": {
      "name": "Melody_Generation_Model.ipynb",
      "provenance": [],
      "collapsed_sections": [],
      "include_colab_link": true
    },
    "kernelspec": {
      "name": "python3",
      "display_name": "Python 3"
    },
    "accelerator": "GPU"
  },
  "cells": [
    {
      "cell_type": "markdown",
      "metadata": {
        "id": "view-in-github",
        "colab_type": "text"
      },
      "source": [
        "<a href=\"https://colab.research.google.com/github/AryanMethil/Music-Generation-/blob/main/Melody_Generation_Model.ipynb\" target=\"_parent\"><img src=\"https://colab.research.google.com/assets/colab-badge.svg\" alt=\"Open In Colab\"/></a>"
      ]
    },
    {
      "cell_type": "code",
      "metadata": {
        "id": "THdNu2YH7cJ9"
      },
      "source": [
        "import shutil"
      ],
      "execution_count": null,
      "outputs": []
    },
    {
      "cell_type": "code",
      "metadata": {
        "id": "XO29QuhA7ksb",
        "colab": {
          "base_uri": "https://localhost:8080/",
          "height": 35
        },
        "outputId": "75c5b5a2-e43c-466d-bc65-42a18d354ed1"
      },
      "source": [
        "shutil.copy('/content/drive/My Drive/Melody Generation/melody_generation_preprocesing.py','/content/')"
      ],
      "execution_count": null,
      "outputs": [
        {
          "output_type": "execute_result",
          "data": {
            "application/vnd.google.colaboratory.intrinsic+json": {
              "type": "string"
            },
            "text/plain": [
              "'/content/melody_generation_preprocesing.py'"
            ]
          },
          "metadata": {
            "tags": []
          },
          "execution_count": 2
        }
      ]
    },
    {
      "cell_type": "code",
      "metadata": {
        "id": "240qeETl9yz4",
        "colab": {
          "base_uri": "https://localhost:8080/",
          "height": 51
        },
        "outputId": "ea4c64a0-102d-411d-c4bc-72d10b031856"
      },
      "source": [
        "from melody_generation_preprocesing import inputs,targets"
      ],
      "execution_count": null,
      "outputs": [
        {
          "output_type": "stream",
          "text": [
            "(362178, 64, 38)\n",
            "(362178,)\n"
          ],
          "name": "stdout"
        }
      ]
    },
    {
      "cell_type": "code",
      "metadata": {
        "id": "_xrFmxmC93Yb",
        "colab": {
          "base_uri": "https://localhost:8080/",
          "height": 34
        },
        "outputId": "0fd8026a-1b51-4096-c645-e3712fb322bc"
      },
      "source": [
        "print(targets)"
      ],
      "execution_count": null,
      "outputs": [
        {
          "output_type": "stream",
          "text": [
            "[ 6  6  7 ... 25 25 25]\n"
          ],
          "name": "stdout"
        }
      ]
    },
    {
      "cell_type": "code",
      "metadata": {
        "id": "9rFy0tzi_Cvd",
        "colab": {
          "base_uri": "https://localhost:8080/",
          "height": 289
        },
        "outputId": "add25bac-df5b-4af7-da98-8bc85309af27"
      },
      "source": [
        "import tensorflow as tf\n",
        "input=tf.keras.layers.Input(shape=(None,38))\n",
        "x=tf.keras.layers.LSTM(256)(input)\n",
        "x=tf.keras.layers.Dropout(0.2)(x)\n",
        "output=tf.keras.layers.Dense(38,activation='softmax')(x)\n",
        "\n",
        "model=tf.keras.Model(input,output)\n",
        "\n",
        "model.compile(optimizer=tf.keras.optimizers.Adam(learning_rate=0.001),\n",
        "              loss='sparse_categorical_crossentropy',\n",
        "              metrics=['accuracy'])\n",
        "\n",
        "model.summary()\n"
      ],
      "execution_count": null,
      "outputs": [
        {
          "output_type": "stream",
          "text": [
            "Model: \"functional_1\"\n",
            "_________________________________________________________________\n",
            "Layer (type)                 Output Shape              Param #   \n",
            "=================================================================\n",
            "input_1 (InputLayer)         [(None, None, 38)]        0         \n",
            "_________________________________________________________________\n",
            "lstm (LSTM)                  (None, 256)               302080    \n",
            "_________________________________________________________________\n",
            "dropout (Dropout)            (None, 256)               0         \n",
            "_________________________________________________________________\n",
            "dense (Dense)                (None, 38)                9766      \n",
            "=================================================================\n",
            "Total params: 311,846\n",
            "Trainable params: 311,846\n",
            "Non-trainable params: 0\n",
            "_________________________________________________________________\n"
          ],
          "name": "stdout"
        }
      ]
    },
    {
      "cell_type": "code",
      "metadata": {
        "id": "zMGL6IHpEVL8",
        "colab": {
          "base_uri": "https://localhost:8080/",
          "height": 1000
        },
        "outputId": "b825b06f-172d-414d-a66b-1b6ed64ff11d"
      },
      "source": [
        "model.fit(inputs,targets,batch_size=64,epochs=50)"
      ],
      "execution_count": null,
      "outputs": [
        {
          "output_type": "stream",
          "text": [
            "Epoch 1/50\n",
            "5660/5660 [==============================] - 111s 20ms/step - loss: 0.6870 - accuracy: 0.7892\n",
            "Epoch 2/50\n",
            "5660/5660 [==============================] - 111s 20ms/step - loss: 0.5689 - accuracy: 0.8167\n",
            "Epoch 3/50\n",
            "5660/5660 [==============================] - 111s 20ms/step - loss: 0.5403 - accuracy: 0.8263\n",
            "Epoch 4/50\n",
            "5660/5660 [==============================] - 111s 20ms/step - loss: 0.5175 - accuracy: 0.8335\n",
            "Epoch 5/50\n",
            "5660/5660 [==============================] - 112s 20ms/step - loss: 0.4976 - accuracy: 0.8378\n",
            "Epoch 6/50\n",
            "5660/5660 [==============================] - 111s 20ms/step - loss: 0.4797 - accuracy: 0.8431\n",
            "Epoch 7/50\n",
            "5660/5660 [==============================] - 112s 20ms/step - loss: 0.4650 - accuracy: 0.8473\n",
            "Epoch 8/50\n",
            "5660/5660 [==============================] - 112s 20ms/step - loss: 0.4509 - accuracy: 0.8518\n",
            "Epoch 9/50\n",
            "5660/5660 [==============================] - 112s 20ms/step - loss: 0.4370 - accuracy: 0.8560\n",
            "Epoch 10/50\n",
            "5660/5660 [==============================] - 112s 20ms/step - loss: 0.4243 - accuracy: 0.8597\n",
            "Epoch 11/50\n",
            "5660/5660 [==============================] - 112s 20ms/step - loss: 0.4112 - accuracy: 0.8634\n",
            "Epoch 12/50\n",
            "5660/5660 [==============================] - 112s 20ms/step - loss: 0.4002 - accuracy: 0.8670\n",
            "Epoch 13/50\n",
            "5660/5660 [==============================] - 112s 20ms/step - loss: 0.3876 - accuracy: 0.8707\n",
            "Epoch 14/50\n",
            "5660/5660 [==============================] - 111s 20ms/step - loss: 0.3811 - accuracy: 0.8728\n",
            "Epoch 15/50\n",
            "5660/5660 [==============================] - 111s 20ms/step - loss: 0.3701 - accuracy: 0.8761\n",
            "Epoch 16/50\n",
            "5660/5660 [==============================] - 112s 20ms/step - loss: 0.3613 - accuracy: 0.8791\n",
            "Epoch 17/50\n",
            "5660/5660 [==============================] - 111s 20ms/step - loss: 0.3524 - accuracy: 0.8815\n",
            "Epoch 18/50\n",
            "5660/5660 [==============================] - 111s 20ms/step - loss: 0.3463 - accuracy: 0.8837\n",
            "Epoch 19/50\n",
            "5660/5660 [==============================] - 111s 20ms/step - loss: 0.3363 - accuracy: 0.8867\n",
            "Epoch 20/50\n",
            "5660/5660 [==============================] - 111s 20ms/step - loss: 0.3320 - accuracy: 0.8883\n",
            "Epoch 21/50\n",
            "5660/5660 [==============================] - 111s 20ms/step - loss: 0.3339 - accuracy: 0.8874\n",
            "Epoch 22/50\n",
            "5660/5660 [==============================] - 111s 20ms/step - loss: 0.3238 - accuracy: 0.8905\n",
            "Epoch 23/50\n",
            "5660/5660 [==============================] - 111s 20ms/step - loss: 0.3211 - accuracy: 0.8917\n",
            "Epoch 24/50\n",
            "5660/5660 [==============================] - 111s 20ms/step - loss: 0.3136 - accuracy: 0.8941\n",
            "Epoch 25/50\n",
            "5660/5660 [==============================] - 111s 20ms/step - loss: 0.3180 - accuracy: 0.8928\n",
            "Epoch 26/50\n",
            "5660/5660 [==============================] - 111s 20ms/step - loss: 0.3140 - accuracy: 0.8939\n",
            "Epoch 27/50\n",
            "5660/5660 [==============================] - 111s 20ms/step - loss: 0.3069 - accuracy: 0.8964\n",
            "Epoch 28/50\n",
            "5660/5660 [==============================] - 111s 20ms/step - loss: 0.3047 - accuracy: 0.8971\n",
            "Epoch 29/50\n",
            "5660/5660 [==============================] - 111s 20ms/step - loss: 0.3021 - accuracy: 0.8976\n",
            "Epoch 30/50\n",
            "5660/5660 [==============================] - 111s 20ms/step - loss: 0.2963 - accuracy: 0.8993\n",
            "Epoch 31/50\n",
            "5660/5660 [==============================] - 112s 20ms/step - loss: 0.2912 - accuracy: 0.9008\n",
            "Epoch 32/50\n",
            "5660/5660 [==============================] - 111s 20ms/step - loss: 0.2923 - accuracy: 0.9007\n",
            "Epoch 33/50\n",
            "5660/5660 [==============================] - 113s 20ms/step - loss: 0.2910 - accuracy: 0.9012\n",
            "Epoch 34/50\n",
            "5660/5660 [==============================] - 112s 20ms/step - loss: 0.2952 - accuracy: 0.8998\n",
            "Epoch 35/50\n",
            "5660/5660 [==============================] - 111s 20ms/step - loss: 0.2841 - accuracy: 0.9036\n",
            "Epoch 36/50\n",
            "5660/5660 [==============================] - 111s 20ms/step - loss: 0.2777 - accuracy: 0.9057\n",
            "Epoch 37/50\n",
            "5660/5660 [==============================] - 112s 20ms/step - loss: 0.2821 - accuracy: 0.9040\n",
            "Epoch 38/50\n",
            "5660/5660 [==============================] - 112s 20ms/step - loss: 0.2815 - accuracy: 0.9044\n",
            "Epoch 39/50\n",
            "5660/5660 [==============================] - 113s 20ms/step - loss: 0.2818 - accuracy: 0.9044\n",
            "Epoch 40/50\n",
            "5660/5660 [==============================] - 112s 20ms/step - loss: 0.2718 - accuracy: 0.9072\n",
            "Epoch 41/50\n",
            "5660/5660 [==============================] - 112s 20ms/step - loss: 0.2730 - accuracy: 0.9069\n",
            "Epoch 42/50\n",
            "5660/5660 [==============================] - 111s 20ms/step - loss: 0.2703 - accuracy: 0.9080\n",
            "Epoch 43/50\n",
            "5660/5660 [==============================] - 112s 20ms/step - loss: 0.2718 - accuracy: 0.9074\n",
            "Epoch 44/50\n",
            "5660/5660 [==============================] - 112s 20ms/step - loss: 0.2598 - accuracy: 0.9114\n",
            "Epoch 45/50\n",
            "5660/5660 [==============================] - 112s 20ms/step - loss: 0.2651 - accuracy: 0.9090\n",
            "Epoch 46/50\n",
            "5660/5660 [==============================] - 112s 20ms/step - loss: 0.2638 - accuracy: 0.9097\n",
            "Epoch 47/50\n",
            "5660/5660 [==============================] - 111s 20ms/step - loss: 0.2656 - accuracy: 0.9092\n",
            "Epoch 48/50\n",
            "5660/5660 [==============================] - 111s 20ms/step - loss: 0.2603 - accuracy: 0.9107\n",
            "Epoch 49/50\n",
            "5660/5660 [==============================] - 112s 20ms/step - loss: 0.2686 - accuracy: 0.9082\n",
            "Epoch 50/50\n",
            "5660/5660 [==============================] - 112s 20ms/step - loss: 0.2559 - accuracy: 0.9125\n"
          ],
          "name": "stdout"
        },
        {
          "output_type": "execute_result",
          "data": {
            "text/plain": [
              "<tensorflow.python.keras.callbacks.History at 0x7f45e8f1eeb8>"
            ]
          },
          "metadata": {
            "tags": []
          },
          "execution_count": 7
        }
      ]
    },
    {
      "cell_type": "code",
      "metadata": {
        "id": "iaobZK_6Ek0Y"
      },
      "source": [
        "model.save('/content/drive/My Drive/Melody Generation/my_model.h5')"
      ],
      "execution_count": null,
      "outputs": []
    },
    {
      "cell_type": "code",
      "metadata": {
        "id": "Iyd9Hq3FL-QD"
      },
      "source": [
        ""
      ],
      "execution_count": null,
      "outputs": []
    }
  ]
}